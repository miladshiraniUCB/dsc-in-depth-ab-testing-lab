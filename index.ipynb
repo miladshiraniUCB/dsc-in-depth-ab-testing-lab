{
 "cells": [
  {
   "cell_type": "markdown",
   "metadata": {},
   "source": [
    "# In Depth A/B Testing - Lab\n",
    "\n",
    "## Introduction\n",
    "\n",
    "In this lab, you'll explore a survey from Kaggle regarding budding data scientists. With this, you'll form some initial hypotheses, and test them using the tools you've acquired to date. \n",
    "\n",
    "## Objectives\n",
    "\n",
    "You will be able to:\n",
    "* Conduct t-tests and an ANOVA on a real-world dataset and interpret the results"
   ]
  },
  {
   "cell_type": "markdown",
   "metadata": {},
   "source": [
    "## Load the Dataset and Perform a Brief Exploration\n",
    "\n",
    "The data is stored in a file called **multipleChoiceResponses_cleaned.csv**. Feel free to check out the original dataset referenced at the bottom of this lab, although this cleaned version will undoubtedly be easier to work with. Additionally, meta-data regarding the questions is stored in a file name **schema.csv**. Load in the data itself as a Pandas DataFrame, and take a moment to briefly get acquainted with it.\n",
    "\n",
    "> Note: If you can't get the file to load properly, try changing the encoding format as in `encoding='latin1'`"
   ]
  },
  {
   "cell_type": "code",
   "execution_count": 103,
   "metadata": {},
   "outputs": [],
   "source": [
    "#Your code here\n",
    "import pandas as pd\n",
    "import scipy.stats as stats\n",
    "import numpy as np\n",
    "import seaborn as sns\n",
    "import matplotlib.pyplot as plt\n",
    "\n",
    "from statsmodels.stats.power import TTestIndPower\n",
    "\n",
    "\n",
    "import warnings\n",
    "warnings.filterwarnings(\"ignore\")"
   ]
  },
  {
   "cell_type": "code",
   "execution_count": 52,
   "metadata": {},
   "outputs": [
    {
     "data": {
      "text/html": [
       "<div>\n",
       "<style scoped>\n",
       "    .dataframe tbody tr th:only-of-type {\n",
       "        vertical-align: middle;\n",
       "    }\n",
       "\n",
       "    .dataframe tbody tr th {\n",
       "        vertical-align: top;\n",
       "    }\n",
       "\n",
       "    .dataframe thead th {\n",
       "        text-align: right;\n",
       "    }\n",
       "</style>\n",
       "<table border=\"1\" class=\"dataframe\">\n",
       "  <thead>\n",
       "    <tr style=\"text-align: right;\">\n",
       "      <th></th>\n",
       "      <th>GenderSelect</th>\n",
       "      <th>Country</th>\n",
       "      <th>Age</th>\n",
       "      <th>EmploymentStatus</th>\n",
       "      <th>StudentStatus</th>\n",
       "      <th>LearningDataScience</th>\n",
       "      <th>CodeWriter</th>\n",
       "      <th>CareerSwitcher</th>\n",
       "      <th>CurrentJobTitleSelect</th>\n",
       "      <th>TitleFit</th>\n",
       "      <th>...</th>\n",
       "      <th>JobFactorTitle</th>\n",
       "      <th>JobFactorCompanyFunding</th>\n",
       "      <th>JobFactorImpact</th>\n",
       "      <th>JobFactorRemote</th>\n",
       "      <th>JobFactorIndustry</th>\n",
       "      <th>JobFactorLeaderReputation</th>\n",
       "      <th>JobFactorDiversity</th>\n",
       "      <th>JobFactorPublishingOpportunity</th>\n",
       "      <th>exchangeRate</th>\n",
       "      <th>AdjustedCompensation</th>\n",
       "    </tr>\n",
       "  </thead>\n",
       "  <tbody>\n",
       "    <tr>\n",
       "      <th>0</th>\n",
       "      <td>Non-binary, genderqueer, or gender non-conforming</td>\n",
       "      <td>NaN</td>\n",
       "      <td>NaN</td>\n",
       "      <td>Employed full-time</td>\n",
       "      <td>NaN</td>\n",
       "      <td>NaN</td>\n",
       "      <td>Yes</td>\n",
       "      <td>NaN</td>\n",
       "      <td>DBA/Database Engineer</td>\n",
       "      <td>Fine</td>\n",
       "      <td>...</td>\n",
       "      <td>NaN</td>\n",
       "      <td>NaN</td>\n",
       "      <td>NaN</td>\n",
       "      <td>NaN</td>\n",
       "      <td>NaN</td>\n",
       "      <td>NaN</td>\n",
       "      <td>NaN</td>\n",
       "      <td>NaN</td>\n",
       "      <td>NaN</td>\n",
       "      <td>NaN</td>\n",
       "    </tr>\n",
       "    <tr>\n",
       "      <th>1</th>\n",
       "      <td>Female</td>\n",
       "      <td>United States</td>\n",
       "      <td>30.0</td>\n",
       "      <td>Not employed, but looking for work</td>\n",
       "      <td>NaN</td>\n",
       "      <td>NaN</td>\n",
       "      <td>NaN</td>\n",
       "      <td>NaN</td>\n",
       "      <td>NaN</td>\n",
       "      <td>NaN</td>\n",
       "      <td>...</td>\n",
       "      <td>NaN</td>\n",
       "      <td>NaN</td>\n",
       "      <td>NaN</td>\n",
       "      <td>NaN</td>\n",
       "      <td>NaN</td>\n",
       "      <td>Somewhat important</td>\n",
       "      <td>NaN</td>\n",
       "      <td>NaN</td>\n",
       "      <td>NaN</td>\n",
       "      <td>NaN</td>\n",
       "    </tr>\n",
       "    <tr>\n",
       "      <th>2</th>\n",
       "      <td>Male</td>\n",
       "      <td>Canada</td>\n",
       "      <td>28.0</td>\n",
       "      <td>Not employed, but looking for work</td>\n",
       "      <td>NaN</td>\n",
       "      <td>NaN</td>\n",
       "      <td>NaN</td>\n",
       "      <td>NaN</td>\n",
       "      <td>NaN</td>\n",
       "      <td>NaN</td>\n",
       "      <td>...</td>\n",
       "      <td>Very Important</td>\n",
       "      <td>Very Important</td>\n",
       "      <td>Very Important</td>\n",
       "      <td>Very Important</td>\n",
       "      <td>Very Important</td>\n",
       "      <td>Very Important</td>\n",
       "      <td>Very Important</td>\n",
       "      <td>Very Important</td>\n",
       "      <td>NaN</td>\n",
       "      <td>NaN</td>\n",
       "    </tr>\n",
       "    <tr>\n",
       "      <th>3</th>\n",
       "      <td>Male</td>\n",
       "      <td>United States</td>\n",
       "      <td>56.0</td>\n",
       "      <td>Independent contractor, freelancer, or self-em...</td>\n",
       "      <td>NaN</td>\n",
       "      <td>NaN</td>\n",
       "      <td>Yes</td>\n",
       "      <td>NaN</td>\n",
       "      <td>Operations Research Practitioner</td>\n",
       "      <td>Poorly</td>\n",
       "      <td>...</td>\n",
       "      <td>NaN</td>\n",
       "      <td>NaN</td>\n",
       "      <td>NaN</td>\n",
       "      <td>NaN</td>\n",
       "      <td>NaN</td>\n",
       "      <td>NaN</td>\n",
       "      <td>NaN</td>\n",
       "      <td>NaN</td>\n",
       "      <td>1.0</td>\n",
       "      <td>250000.0</td>\n",
       "    </tr>\n",
       "    <tr>\n",
       "      <th>4</th>\n",
       "      <td>Male</td>\n",
       "      <td>Taiwan</td>\n",
       "      <td>38.0</td>\n",
       "      <td>Employed full-time</td>\n",
       "      <td>NaN</td>\n",
       "      <td>NaN</td>\n",
       "      <td>Yes</td>\n",
       "      <td>NaN</td>\n",
       "      <td>Computer Scientist</td>\n",
       "      <td>Fine</td>\n",
       "      <td>...</td>\n",
       "      <td>NaN</td>\n",
       "      <td>NaN</td>\n",
       "      <td>NaN</td>\n",
       "      <td>NaN</td>\n",
       "      <td>NaN</td>\n",
       "      <td>NaN</td>\n",
       "      <td>NaN</td>\n",
       "      <td>NaN</td>\n",
       "      <td>NaN</td>\n",
       "      <td>NaN</td>\n",
       "    </tr>\n",
       "  </tbody>\n",
       "</table>\n",
       "<p>5 rows × 230 columns</p>\n",
       "</div>"
      ],
      "text/plain": [
       "                                        GenderSelect        Country   Age  \\\n",
       "0  Non-binary, genderqueer, or gender non-conforming            NaN   NaN   \n",
       "1                                             Female  United States  30.0   \n",
       "2                                               Male         Canada  28.0   \n",
       "3                                               Male  United States  56.0   \n",
       "4                                               Male         Taiwan  38.0   \n",
       "\n",
       "                                    EmploymentStatus StudentStatus  \\\n",
       "0                                 Employed full-time           NaN   \n",
       "1                 Not employed, but looking for work           NaN   \n",
       "2                 Not employed, but looking for work           NaN   \n",
       "3  Independent contractor, freelancer, or self-em...           NaN   \n",
       "4                                 Employed full-time           NaN   \n",
       "\n",
       "  LearningDataScience CodeWriter CareerSwitcher  \\\n",
       "0                 NaN        Yes            NaN   \n",
       "1                 NaN        NaN            NaN   \n",
       "2                 NaN        NaN            NaN   \n",
       "3                 NaN        Yes            NaN   \n",
       "4                 NaN        Yes            NaN   \n",
       "\n",
       "              CurrentJobTitleSelect TitleFit  ...  JobFactorTitle  \\\n",
       "0             DBA/Database Engineer     Fine  ...             NaN   \n",
       "1                               NaN      NaN  ...             NaN   \n",
       "2                               NaN      NaN  ...  Very Important   \n",
       "3  Operations Research Practitioner   Poorly  ...             NaN   \n",
       "4                Computer Scientist     Fine  ...             NaN   \n",
       "\n",
       "  JobFactorCompanyFunding JobFactorImpact JobFactorRemote JobFactorIndustry  \\\n",
       "0                     NaN             NaN             NaN               NaN   \n",
       "1                     NaN             NaN             NaN               NaN   \n",
       "2          Very Important  Very Important  Very Important    Very Important   \n",
       "3                     NaN             NaN             NaN               NaN   \n",
       "4                     NaN             NaN             NaN               NaN   \n",
       "\n",
       "  JobFactorLeaderReputation JobFactorDiversity JobFactorPublishingOpportunity  \\\n",
       "0                       NaN                NaN                            NaN   \n",
       "1        Somewhat important                NaN                            NaN   \n",
       "2            Very Important     Very Important                 Very Important   \n",
       "3                       NaN                NaN                            NaN   \n",
       "4                       NaN                NaN                            NaN   \n",
       "\n",
       "  exchangeRate AdjustedCompensation  \n",
       "0          NaN                  NaN  \n",
       "1          NaN                  NaN  \n",
       "2          NaN                  NaN  \n",
       "3          1.0             250000.0  \n",
       "4          NaN                  NaN  \n",
       "\n",
       "[5 rows x 230 columns]"
      ]
     },
     "execution_count": 52,
     "metadata": {},
     "output_type": "execute_result"
    }
   ],
   "source": [
    "df = pd.read_csv(\"multipleChoiceResponses_cleaned.csv\", encoding='latin1')\n",
    "df.head()"
   ]
  },
  {
   "cell_type": "markdown",
   "metadata": {},
   "source": [
    "## Wages and Education\n",
    "\n",
    "You've been asked to determine whether education is impactful to salary. Develop a hypothesis test to compare the salaries of those with Master's degrees to those with Bachelor's degrees. Are the two statistically different according to your results?\n",
    "\n",
    "> Note: The relevant features are stored in the 'FormalEducation' and 'AdjustedCompensation' features.\n",
    "\n",
    "You may import the functions stored in the `flatiron_stats.py` file to help perform your hypothesis tests. It contains the stats functions that you previously coded: `welch_t(a,b)`, `welch_df(a, b)`, and `p_value(a, b, two_sided=False)`. \n",
    "\n",
    "Note that `scipy.stats.ttest_ind(a, b, equal_var=False)` performs a two-sided Welch's t-test and that p-values derived from two-sided tests are two times the p-values derived from one-sided tests. See the [documentation](https://docs.scipy.org/doc/scipy/reference/generated/scipy.stats.ttest_ind.html) for more information.    "
   ]
  },
  {
   "cell_type": "code",
   "execution_count": 55,
   "metadata": {},
   "outputs": [],
   "source": [
    "condition_M = \"Master's degree\"\n",
    "condition_B = \"Bachelor's degree\"\n",
    "to_pick = \"AdjustedCompensation\"\n",
    "MS = df.loc[df[\"FormalEducation\"] == condition_M][to_pick]\n",
    "BS = df.loc[df[\"FormalEducation\"] == condition_B][to_pick]\n",
    "MS.dropna(inplace = True)\n",
    "BS.dropna(inplace = True)\n",
    "sns.distplot(MS)\n",
    "sns.distplot(BS);"
   ]
  },
  {
   "cell_type": "markdown",
   "metadata": {},
   "source": [
    "Some Information about the samples including `mean`, `median`, `standard deviation` and `sample size`:"
   ]
  },
  {
   "cell_type": "code",
   "execution_count": 58,
   "metadata": {},
   "outputs": [
    {
     "name": "stdout",
     "output_type": "stream",
     "text": [
      "AdjustmentCompensation for {condition_M}\n",
      "Median:               53812.17\n",
      "Mean:                 69139.9\n",
      "Standard Deviation:   135527.21\n",
      "Sample Size:          1990\n",
      "\n",
      "\n",
      "AdjustmentCompensation for Bachelor's degree\n",
      "Median:               38399.4\n",
      "Mean:                 64887.1\n",
      "Standard Deviation:   306935.87\n",
      "Sample Size:          1107\n"
     ]
    }
   ],
   "source": [
    "# print(f\"Comparision of AdjustmentCompensation for {condition_M} and {condition_B}\")\n",
    "# print(\"\\n\")\n",
    "print(\"AdjustmentCompensation for {condition_M}\")\n",
    "print(f\"Median:               {round(MS.median(),2)}\")\n",
    "print(f\"Mean:                 {round(MS.mean(),2)}\")\n",
    "print(f\"Standard Deviation:   {round(MS.std(),2)}\")\n",
    "print(f\"Sample Size:          {len(MS)}\")\n",
    "\n",
    "print(\"\\n\")\n",
    "print(f\"AdjustmentCompensation for {condition_B}\")\n",
    "print(f\"Median:               {round(BS.median(),2)}\")\n",
    "print(f\"Mean:                 {round(BS.mean(),2)}\")\n",
    "print(f\"Standard Deviation:   {round(BS.std(),2)}\")\n",
    "print(f\"Sample Size:          {len(BS)}\")"
   ]
  },
  {
   "cell_type": "code",
   "execution_count": 74,
   "metadata": {},
   "outputs": [
    {
     "data": {
      "text/plain": [
       "0.33077639451272445"
      ]
     },
     "execution_count": 74,
     "metadata": {},
     "output_type": "execute_result"
    }
   ],
   "source": [
    "results = stats.ttest_ind(MS, BS, equal_var=False)\n",
    "p_value = 1/2 * results.pvalue\n",
    "p_value"
   ]
  },
  {
   "cell_type": "code",
   "execution_count": 75,
   "metadata": {},
   "outputs": [
    {
     "name": "stdout",
     "output_type": "stream",
     "text": [
      "0.8th percentile:\tset1: 103000.0\tset2: 93233.13\n",
      "0.81th percentile:\tset1: 107009.0\tset2: 95572.83\n",
      "0.82th percentile:\tset1: 110000.0\tset2: 99276.38\n",
      "0.83th percentile:\tset1: 111503.83\tset2: 100000.0\n",
      "0.84th percentile:\tset1: 115240.4\tset2: 103040.0\n",
      "0.85th percentile:\tset1: 119582.6\tset2: 105935.04\n",
      "0.86th percentile:\tset1: 120000.0\tset2: 110000.0\n",
      "0.87th percentile:\tset1: 124719.88\tset2: 112000.0\n",
      "0.88th percentile:\tset1: 129421.46\tset2: 115000.0\n",
      "0.89th percentile:\tset1: 130000.0\tset2: 120000.0\n",
      "0.9th percentile:\tset1: 135000.0\tset2: 120346.5\n",
      "0.91th percentile:\tset1: 140000.0\tset2: 126460.0\n",
      "0.92th percentile:\tset1: 149640.0\tset2: 132615.4\n",
      "0.93th percentile:\tset1: 150000.0\tset2: 140000.0\n",
      "0.94th percentile:\tset1: 160000.0\tset2: 143408.8\n",
      "0.95th percentile:\tset1: 166778.6\tset2: 150000.0\n",
      "0.96th percentile:\tset1: 180000.0\tset2: 179849.74\n",
      "0.97th percentile:\tset1: 200000.0\tset2: 195000.0\n",
      "0.98th percentile:\tset1: 211100.0\tset2: 200000.0\n",
      "0.99th percentile:\tset1: 250000.0\tset2: 250000.0\n",
      "1.0th percentile:\tset1: 4498900.0\tset2: 9999999.0\n"
     ]
    }
   ],
   "source": [
    "#Investigate Percentiles\n",
    "for q in np.linspace(.8, 1, num=21):\n",
    "    MSq =  round(MS.quantile(q=q), 2)\n",
    "    BSq =  round(BS.quantile(q=q), 2)\n",
    "    print(f'{round(q,2)}th percentile:\\tset1: {MSq}\\tset2: {BSq}')"
   ]
  },
  {
   "cell_type": "code",
   "execution_count": 76,
   "metadata": {},
   "outputs": [],
   "source": [
    "outlier_threshold = 5e5\n",
    "\n",
    "condition_M = \"Master's degree\"\n",
    "condition_B = \"Bachelor's degree\"\n",
    "to_pick = \"AdjustedCompensation\"\n",
    "modified_MS = df.loc[(df[\"FormalEducation\"] == condition_M) & \n",
    "           (df[\"AdjustedCompensation\"] <= outlier_threshold)][to_pick]\n",
    "modified_BS = df.loc[(df[\"FormalEducation\"] == condition_B) & \n",
    "           (df[\"AdjustedCompensation\"] <= outlier_threshold)][to_pick]\n",
    "modified_MS.dropna(inplace = True)\n",
    "modified_BS.dropna(inplace = True)\n"
   ]
  },
  {
   "cell_type": "code",
   "execution_count": 77,
   "metadata": {},
   "outputs": [
    {
     "data": {
      "image/png": "[encoded data removed]",
      "text/plain": [
       "<Figure size 432x288 with 1 Axes>"
      ]
     },
     "metadata": {
      "needs_background": "light"
     },
     "output_type": "display_data"
    }
   ],
   "source": [
    "sns.distplot(modified_MS)\n",
    "sns.distplot(modified_BS);"
   ]
  },
  {
   "cell_type": "code",
   "execution_count": 78,
   "metadata": {},
   "outputs": [
    {
     "name": "stdout",
     "output_type": "stream",
     "text": [
      "AdjustmentCompensation for Master's degree after setting out Outlier Threshold\n",
      "Median:               53539.72\n",
      "Mean:                 63976.63\n",
      "Standard Deviation:   55340.99\n",
      "Sample Size:          1985\n",
      "\n",
      "\n",
      "AdjustmentCompensation for Bachelor's degree after setting out Outlier Threshold\n",
      "Median:               38292.15\n",
      "Mean:                 53744.35\n",
      "Standard Deviation:   55285.48\n",
      "Sample Size:          1103\n"
     ]
    }
   ],
   "source": [
    "print(f\"AdjustmentCompensation for {condition_M} after setting out Outlier Threshold\")\n",
    "print(f\"Median:               {round(modified_MS.median(),2)}\")\n",
    "print(f\"Mean:                 {round(modified_MS.mean(),2)}\")\n",
    "print(f\"Standard Deviation:   {round(modified_MS.std(),2)}\")\n",
    "print(f\"Sample Size:          {len(modified_MS)}\")\n",
    "\n",
    "print(\"\\n\")\n",
    "print(f\"AdjustmentCompensation for {condition_B} after setting out Outlier Threshold\")\n",
    "print(f\"Median:               {round(modified_BS.median(),2)}\")\n",
    "print(f\"Mean:                 {round(modified_BS.mean(),2)}\")\n",
    "print(f\"Standard Deviation:   {round(modified_BS.std(),2)}\")\n",
    "print(f\"Sample Size:          {len(modified_BS)}\")"
   ]
  },
  {
   "cell_type": "code",
   "execution_count": 79,
   "metadata": {},
   "outputs": [
    {
     "data": {
      "text/plain": [
       "Ttest_indResult(statistic=4.926460514781741, pvalue=8.974916653864261e-07)"
      ]
     },
     "execution_count": 79,
     "metadata": {},
     "output_type": "execute_result"
    }
   ],
   "source": [
    "results = stats.ttest_ind(modified_MS, modified_BS, equal_var=False)\n",
    "results\n",
    "# p_value = 1/2 * results.pvalue\n",
    "# p_value"
   ]
  },
  {
   "cell_type": "code",
   "execution_count": 80,
   "metadata": {},
   "outputs": [],
   "source": [
    "#Your code here\n",
    "import flatiron_stats as fs"
   ]
  },
  {
   "cell_type": "markdown",
   "metadata": {},
   "source": [
    "## Wages and Education II\n",
    "\n",
    "Now perform a similar statistical test comparing the AdjustedCompensation of those with Bachelor's degrees and those with Doctorates. If you haven't already, be sure to explore the distribution of the AdjustedCompensation feature for any anomalies. "
   ]
  },
  {
   "cell_type": "code",
   "execution_count": 86,
   "metadata": {},
   "outputs": [
    {
     "data": {
      "image/png": "[encoded data removed]",
      "text/plain": [
       "<Figure size 432x288 with 1 Axes>"
      ]
     },
     "metadata": {
      "needs_background": "light"
     },
     "output_type": "display_data"
    }
   ],
   "source": [
    "condition_D = \"Doctoral degree\"\n",
    "condition_B = \"Bachelor's degree\"\n",
    "to_pick = \"AdjustedCompensation\"\n",
    "D = df.loc[df[\"FormalEducation\"] == condition_D][to_pick]\n",
    "BS = df.loc[df[\"FormalEducation\"] == condition_B][to_pick]\n",
    "D.dropna(inplace = True)\n",
    "BS.dropna(inplace = True)\n",
    "sns.distplot(D)\n",
    "sns.distplot(BS);"
   ]
  },
  {
   "cell_type": "code",
   "execution_count": 87,
   "metadata": {},
   "outputs": [
    {
     "name": "stdout",
     "output_type": "stream",
     "text": [
      "AdjustmentCompensation for {condition_D}\n",
      "Median:               74131.92\n",
      "Mean:                 29566175.76\n",
      "Standard Deviation:   909998082.33\n",
      "Sample Size:          967\n",
      "\n",
      "\n",
      "AdjustmentCompensation for Bachelor's degree\n",
      "Median:               38399.4\n",
      "Mean:                 64887.1\n",
      "Standard Deviation:   306935.87\n",
      "Sample Size:          1107\n"
     ]
    }
   ],
   "source": [
    "# print(f\"Comparision of AdjustmentCompensation for {condition_M} and {condition_B}\")\n",
    "# print(\"\\n\")\n",
    "print(\"AdjustmentCompensation for {condition_D}\")\n",
    "print(f\"Median:               {round(D.median(),2)}\")\n",
    "print(f\"Mean:                 {round(D.mean(),2)}\")\n",
    "print(f\"Standard Deviation:   {round(D.std(),2)}\")\n",
    "print(f\"Sample Size:          {len(D)}\")\n",
    "\n",
    "print(\"\\n\")\n",
    "print(f\"AdjustmentCompensation for {condition_B}\")\n",
    "print(f\"Median:               {round(BS.median(),2)}\")\n",
    "print(f\"Mean:                 {round(BS.mean(),2)}\")\n",
    "print(f\"Standard Deviation:   {round(BS.std(),2)}\")\n",
    "print(f\"Sample Size:          {len(BS)}\")"
   ]
  },
  {
   "cell_type": "code",
   "execution_count": 88,
   "metadata": {},
   "outputs": [
    {
     "data": {
      "text/plain": [
       "0.15682381994720257"
      ]
     },
     "execution_count": 88,
     "metadata": {},
     "output_type": "execute_result"
    }
   ],
   "source": [
    "results = stats.ttest_ind(D, BS, equal_var=False)\n",
    "p_value = 1/2 * results.pvalue\n",
    "p_value"
   ]
  },
  {
   "cell_type": "code",
   "execution_count": 89,
   "metadata": {},
   "outputs": [
    {
     "name": "stdout",
     "output_type": "stream",
     "text": [
      "0.8th percentile:\tset1: 135000.0\tset2: 93233.13\n",
      "0.81th percentile:\tset1: 140000.0\tset2: 95572.83\n",
      "0.82th percentile:\tset1: 140000.0\tset2: 99276.38\n",
      "0.83th percentile:\tset1: 146796.17\tset2: 100000.0\n",
      "0.84th percentile:\tset1: 150000.0\tset2: 103040.0\n",
      "0.85th percentile:\tset1: 150000.0\tset2: 105935.04\n",
      "0.86th percentile:\tset1: 155000.0\tset2: 110000.0\n",
      "0.87th percentile:\tset1: 160000.0\tset2: 112000.0\n",
      "0.88th percentile:\tset1: 160000.0\tset2: 115000.0\n",
      "0.89th percentile:\tset1: 166480.0\tset2: 120000.0\n",
      "0.9th percentile:\tset1: 172057.78\tset2: 120346.5\n",
      "0.91th percentile:\tset1: 175000.0\tset2: 126460.0\n",
      "0.92th percentile:\tset1: 181555.2\tset2: 132615.4\n",
      "0.93th percentile:\tset1: 191900.0\tset2: 140000.0\n",
      "0.94th percentile:\tset1: 200000.0\tset2: 143408.8\n",
      "0.95th percentile:\tset1: 200000.0\tset2: 150000.0\n",
      "0.96th percentile:\tset1: 220999.61\tset2: 179849.74\n",
      "0.97th percentile:\tset1: 240879.14\tset2: 195000.0\n",
      "0.98th percentile:\tset1: 277349.78\tset2: 200000.0\n",
      "0.99th percentile:\tset1: 336800.0\tset2: 250000.0\n",
      "1.0th percentile:\tset1: 28297400000.0\tset2: 9999999.0\n"
     ]
    }
   ],
   "source": [
    "#Investigate Percentiles\n",
    "for q in np.linspace(.8, 1, num=21):\n",
    "    Dq =  round(D.quantile(q=q), 2)\n",
    "    BSq =  round(BS.quantile(q=q), 2)\n",
    "    print(f'{round(q,2)}th percentile:\\tset1: {Dq}\\tset2: {BSq}')"
   ]
  },
  {
   "cell_type": "code",
   "execution_count": 90,
   "metadata": {},
   "outputs": [],
   "source": [
    "outlier_threshold = 5e5\n",
    "\n",
    "condition_D = \"Doctoral degree\"\n",
    "condition_B = \"Bachelor's degree\"\n",
    "to_pick = \"AdjustedCompensation\"\n",
    "modified_D = df.loc[(df[\"FormalEducation\"] == condition_D) & \n",
    "           (df[\"AdjustedCompensation\"] <= outlier_threshold)][to_pick]\n",
    "modified_BS = df.loc[(df[\"FormalEducation\"] == condition_B) & \n",
    "           (df[\"AdjustedCompensation\"] <= outlier_threshold)][to_pick]\n",
    "modified_D.dropna(inplace = True)\n",
    "modified_BS.dropna(inplace = True)\n"
   ]
  },
  {
   "cell_type": "code",
   "execution_count": 91,
   "metadata": {},
   "outputs": [
    {
     "data": {
      "image/png": "[encoded data removed]",
      "text/plain": [
       "<Figure size 432x288 with 1 Axes>"
      ]
     },
     "metadata": {
      "needs_background": "light"
     },
     "output_type": "display_data"
    }
   ],
   "source": [
    "sns.distplot(modified_D)\n",
    "sns.distplot(modified_BS);"
   ]
  },
  {
   "cell_type": "code",
   "execution_count": 92,
   "metadata": {},
   "outputs": [
    {
     "name": "stdout",
     "output_type": "stream",
     "text": [
      "AdjustmentCompensation for Doctoral degree after setting out Outlier Threshold\n",
      "Median:               73152.77\n",
      "Mean:                 86194.98\n",
      "Standard Deviation:   65298.89\n",
      "Sample Size:          964\n",
      "\n",
      "\n",
      "AdjustmentCompensation for Bachelor's degree after setting out Outlier Threshold\n",
      "Median:               38292.15\n",
      "Mean:                 53744.35\n",
      "Standard Deviation:   55285.48\n",
      "Sample Size:          1103\n"
     ]
    }
   ],
   "source": [
    "print(f\"AdjustmentCompensation for {condition_D} after setting out Outlier Threshold\")\n",
    "print(f\"Median:               {round(modified_D.median(),2)}\")\n",
    "print(f\"Mean:                 {round(modified_D.mean(),2)}\")\n",
    "print(f\"Standard Deviation:   {round(modified_D.std(),2)}\")\n",
    "print(f\"Sample Size:          {len(modified_D)}\")\n",
    "\n",
    "print(\"\\n\")\n",
    "print(f\"AdjustmentCompensation for {condition_B} after setting out Outlier Threshold\")\n",
    "print(f\"Median:               {round(modified_BS.median(),2)}\")\n",
    "print(f\"Mean:                 {round(modified_BS.mean(),2)}\")\n",
    "print(f\"Standard Deviation:   {round(modified_BS.std(),2)}\")\n",
    "print(f\"Sample Size:          {len(modified_BS)}\")"
   ]
  },
  {
   "cell_type": "code",
   "execution_count": 93,
   "metadata": {},
   "outputs": [
    {
     "data": {
      "text/plain": [
       "Ttest_indResult(statistic=12.098472655425814, pvalue=1.6387413004630542e-32)"
      ]
     },
     "execution_count": 93,
     "metadata": {},
     "output_type": "execute_result"
    }
   ],
   "source": [
    "results = stats.ttest_ind(modified_D, modified_BS, equal_var=False)\n",
    "results\n",
    "# p_value = 1/2 * results.pvalue\n",
    "# p_value"
   ]
  },
  {
   "cell_type": "markdown",
   "metadata": {},
   "source": [
    "## Wages and Education III\n",
    "\n",
    "Remember the multiple comparisons problem; rather than continuing on like this, perform an ANOVA test between the various 'FormalEducation' categories and their relation to 'AdjustedCompensation'."
   ]
  },
  {
   "cell_type": "code",
   "execution_count": 108,
   "metadata": {},
   "outputs": [
    {
     "name": "stdout",
     "output_type": "stream",
     "text": [
      "                          sum_sq      df         F    PR(>F)\n",
      "C(FormalEducation)  6.540294e+17     6.0  0.590714  0.738044\n",
      "Residual            7.999414e+20  4335.0       NaN       NaN\n"
     ]
    }
   ],
   "source": [
    "#Your code here\n",
    "import statsmodels.api as sm\n",
    "from statsmodels.formula.api import ols\n",
    "\n",
    "\n",
    "F = \"FormalEducation\"\n",
    "A = \"AdjustedCompensation\"\n",
    "formula = 'AdjustedCompensation ~ C(FormalEducation)'\n",
    "lm = ols(formula, df).fit()\n",
    "table = sm.stats.anova_lm(lm, typ=2)\n",
    "print(table)"
   ]
  },
  {
   "cell_type": "code",
   "execution_count": 109,
   "metadata": {},
   "outputs": [
    {
     "name": "stdout",
     "output_type": "stream",
     "text": [
      "                          sum_sq      df          F        PR(>F)\n",
      "C(FormalEducation)  5.841881e+11     6.0  29.224224  1.727132e-34\n",
      "Residual            1.439270e+13  4320.0        NaN           NaN\n"
     ]
    }
   ],
   "source": [
    "F = \"FormalEducation\"\n",
    "A = \"AdjustedCompensation\"\n",
    "temp = df[df[\"AdjustedCompensation\"]<=5*10**5]\n",
    "formula = 'AdjustedCompensation ~ C(FormalEducation)'\n",
    "lm = ols(formula, temp).fit()\n",
    "table = sm.stats.anova_lm(lm, typ=2)\n",
    "print(table)"
   ]
  },
  {
   "cell_type": "markdown",
   "metadata": {},
   "source": [
    "## Additional Resources\n",
    "\n",
    "Here's the original source where the data was taken from:  \n",
    "    [Kaggle Machine Learning & Data Science Survey 2017](https://www.kaggle.com/kaggle/kaggle-survey-2017)"
   ]
  },
  {
   "cell_type": "markdown",
   "metadata": {},
   "source": [
    "## Summary\n",
    "\n",
    "In this lab, you practiced conducting actual hypothesis tests on actual data. From this, you saw how dependent results can be on the initial problem formulation, including preprocessing!"
   ]
  }
 ],
 "metadata": {
  "kernelspec": {
   "display_name": "Python 3",
   "language": "python",
   "name": "python3"
  },
  "language_info": {
   "codemirror_mode": {
    "name": "ipython",
    "version": 3
   },
   "file_extension": ".py",
   "mimetype": "text/x-python",
   "name": "python",
   "nbconvert_exporter": "python",
   "pygments_lexer": "ipython3",
   "version": "3.8.5"
  },
  "latex_envs": {
   "LaTeX_envs_menu_present": true,
   "autoclose": false,
   "autocomplete": true,
   "bibliofile": "biblio.bib",
   "cite_by": "apalike",
   "current_citInitial": 1,
   "eqLabelWithNumbers": true,
   "eqNumInitial": 1,
   "hotkeys": {
    "equation": "Ctrl-E",
    "itemize": "Ctrl-I"
   },
   "labels_anchors": false,
   "latex_user_defs": false,
   "report_style_numbering": false,
   "user_envs_cfg": false
  },
  "toc": {
   "base_numbering": 1,
   "nav_menu": {},
   "number_sections": true,
   "sideBar": true,
   "skip_h1_title": false,
   "title_cell": "Table of Contents",
   "title_sidebar": "Contents",
   "toc_cell": false,
   "toc_position": {},
   "toc_section_display": true,
   "toc_window_display": false
  },
  "varInspector": {
   "cols": {
    "lenName": 16,
    "lenType": 16,
    "lenVar": 40
   },
   "kernels_config": {
    "python": {
     "delete_cmd_postfix": "",
     "delete_cmd_prefix": "del ",
     "library": "var_list.py",
     "varRefreshCmd": "print(var_dic_list())"
    },
    "r": {
     "delete_cmd_postfix": ") ",
     "delete_cmd_prefix": "rm(",
     "library": "var_list.r",
     "varRefreshCmd": "cat(var_dic_list()) "
    }
   },
   "types_to_exclude": [
    "module",
    "function",
    "builtin_function_or_method",
    "instance",
    "_Feature"
   ],
   "window_display": false
  }
 },
 "nbformat": 4,
 "nbformat_minor": 2
}
